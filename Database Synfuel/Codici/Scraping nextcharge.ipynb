{
  "cells": [
    {
      "cell_type": "code",
      "execution_count": null,
      "metadata": {
        "colab": {
          "base_uri": "https://localhost:8080/"
        },
        "id": "X4ciwkTrCyNI",
        "outputId": "adddb181-133d-446c-d5e4-1867fe44d151"
      },
      "outputs": [
        {
          "output_type": "stream",
          "name": "stdout",
          "text": [
            "{'stationsFound': 1, 'status': 'OK', 'stations': [{'idStation': 'NC-3668963015134108', 'favorite': False, 'evType': 'car', 'speed': 'slow', 'priceRateMin': -1, 'priceRateMax': -1, 'connectors': '', 'nextchargeFeatures': '', 'nextchargeNetwork': 0, 'statusStation': 'unknown', 'statusConnectors': '', 'location': 'Strada Provinciale 84 \\u200cPortopalo di Capo Passero', 'country': 'IT', 'distance': 0, 'provider': 'Castello di Tafuri', 'providerLogo': '', 'website': 'www.castellotafuri.it', 'lat': '36.689630', 'lng': '15.134108', 'accessStation': 'private', 'connectorImage': 'type_2,type_3a', 'hours': '24h', 'phone': '0931 844111', 'email': 'info@castellotafuri.it', 'price': '0,60 €/kWh', 'relatedFacilityLinks': '', 'description': 'Riservata agli ospiti dell’Hotel.', 'reviews': '', 'photos': '', 'paymentMethod': '', 'paymentCurrency': '', 'paymentSchemes': ''}]}\n"
          ]
        }
      ],
      "source": [
        "import requests\n",
        "import numpy\n",
        "import pandas as pd\n",
        "import json\n",
        "\n",
        "\n",
        "def scrape_data(lat1,lon1,lat2,lon2):\n",
        "    \n",
        "    extraction_area_step = 0.05\n",
        "    scraper_return = []\n",
        "    for lat in numpy.arange(lat1, lat2, extraction_area_step):\n",
        "        for lon in numpy.arange(lon1, lon2, extraction_area_step):\n",
        "          url = \"https://nextcharge.webapp.goelectricstations.com/apis/v1_19/getFullStations?lon1=\"+ str(lon) +\"&lon2=\"+ str(lon + extraction_area_step) + \"&lat1=\"+ str(lat) +\"&lat2=\"+ str(lat + extraction_area_step) +\"&plugs=&providers=&hotels=0&restaurants=0&nextcharge=&status=&access=&evtype=&priceRate=&powerMin=&trafficLayer=false&satellite=false&defaultFilter=true&filterIsReady=true&userId=ITGES2207NPXHO&favorites=0&userCountry=IT&owner=ITGES&idGroupProvider=\"\n",
        " \n",
        "          response = requests.get(url)\n",
        "\n",
        "          if response.status_code == 200:\n",
        "              if response not in scraper_return:  \n",
        "                  resjson = response.json()   \n",
        "                  if resjson['stationsFound'] > 0:             \n",
        "                      scraper_return.append(resjson)                  \n",
        "\n",
        "          else:\n",
        "              pass\n",
        "\n",
        "    return scraper_return\n",
        "\n",
        "array_risultato = []\n",
        "array_risultato = scrape_data(36.6, 12.4, 38.85, 15.7)\n",
        "print (array_risultato[0])\n",
        "pd.DataFrame(array_risultato).to_json(\"test.json\")"
      ]
    },
    {
      "cell_type": "code",
      "execution_count": null,
      "metadata": {
        "id": "NpchSosqZJve"
      },
      "outputs": [],
      "source": []
    }
  ],
  "metadata": {
    "colab": {
      "collapsed_sections": [],
      "provenance": []
    },
    "interpreter": {
      "hash": "916dbcbb3f70747c44a77c7bcd40155683ae19c65e1c03b4aa3499c5328201f1"
    },
    "kernelspec": {
      "display_name": "Python 3.9.9 64-bit",
      "language": "python",
      "name": "python3"
    },
    "language_info": {
      "codemirror_mode": {
        "name": "ipython",
        "version": 3
      },
      "file_extension": ".py",
      "mimetype": "text/x-python",
      "name": "python",
      "nbconvert_exporter": "python",
      "pygments_lexer": "ipython3",
      "version": "3.9.9"
    }
  },
  "nbformat": 4,
  "nbformat_minor": 0
}